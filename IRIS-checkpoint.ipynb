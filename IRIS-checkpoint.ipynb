{
 "cells": [
  {
   "cell_type": "code",
   "execution_count": 1,
   "metadata": {},
   "outputs": [
    {
     "data": {
      "text/html": [
       "<div>\n",
       "<style scoped>\n",
       "    .dataframe tbody tr th:only-of-type {\n",
       "        vertical-align: middle;\n",
       "    }\n",
       "\n",
       "    .dataframe tbody tr th {\n",
       "        vertical-align: top;\n",
       "    }\n",
       "\n",
       "    .dataframe thead th {\n",
       "        text-align: right;\n",
       "    }\n",
       "</style>\n",
       "<table border=\"1\" class=\"dataframe\">\n",
       "  <thead>\n",
       "    <tr style=\"text-align: right;\">\n",
       "      <th></th>\n",
       "      <th>꽃잎길이</th>\n",
       "      <th>꽃잎폭</th>\n",
       "      <th>꽃받침길이</th>\n",
       "      <th>꽃받침폭</th>\n",
       "      <th>품종</th>\n",
       "    </tr>\n",
       "  </thead>\n",
       "  <tbody>\n",
       "    <tr>\n",
       "      <th>0</th>\n",
       "      <td>5.1</td>\n",
       "      <td>3.5</td>\n",
       "      <td>1.4</td>\n",
       "      <td>0.2</td>\n",
       "      <td>setosa</td>\n",
       "    </tr>\n",
       "    <tr>\n",
       "      <th>1</th>\n",
       "      <td>4.9</td>\n",
       "      <td>3.0</td>\n",
       "      <td>1.4</td>\n",
       "      <td>0.2</td>\n",
       "      <td>setosa</td>\n",
       "    </tr>\n",
       "    <tr>\n",
       "      <th>2</th>\n",
       "      <td>4.7</td>\n",
       "      <td>3.2</td>\n",
       "      <td>1.3</td>\n",
       "      <td>0.2</td>\n",
       "      <td>setosa</td>\n",
       "    </tr>\n",
       "    <tr>\n",
       "      <th>3</th>\n",
       "      <td>4.6</td>\n",
       "      <td>3.1</td>\n",
       "      <td>1.5</td>\n",
       "      <td>0.2</td>\n",
       "      <td>setosa</td>\n",
       "    </tr>\n",
       "    <tr>\n",
       "      <th>4</th>\n",
       "      <td>5.0</td>\n",
       "      <td>3.6</td>\n",
       "      <td>1.4</td>\n",
       "      <td>0.2</td>\n",
       "      <td>setosa</td>\n",
       "    </tr>\n",
       "  </tbody>\n",
       "</table>\n",
       "</div>"
      ],
      "text/plain": [
       "   꽃잎길이  꽃잎폭  꽃받침길이  꽃받침폭      품종\n",
       "0   5.1  3.5    1.4   0.2  setosa\n",
       "1   4.9  3.0    1.4   0.2  setosa\n",
       "2   4.7  3.2    1.3   0.2  setosa\n",
       "3   4.6  3.1    1.5   0.2  setosa\n",
       "4   5.0  3.6    1.4   0.2  setosa"
      ]
     },
     "execution_count": 1,
     "metadata": {},
     "output_type": "execute_result"
    }
   ],
   "source": [
    "# 라이브러리 사용\n",
    "import tensorflow as tf\n",
    "import pandas as pd\n",
    " \n",
    "###########################\n",
    "# 1.과거의 데이터를 준비합니다.\n",
    "파일경로 = 'https://raw.githubusercontent.com/blackdew/tensorflow1/master/csv/iris.csv'\n",
    "아이리스 = pd.read_csv(파일경로)\n",
    "아이리스.head()\n",
    " "
   ]
  },
  {
   "cell_type": "code",
   "execution_count": 2,
   "metadata": {},
   "outputs": [
    {
     "name": "stdout",
     "output_type": "stream",
     "text": [
      "(150, 4) (150, 3)\n"
     ]
    }
   ],
   "source": [
    "아이리스 = pd.get_dummies(아이리스)#아이리스 string 분류형태로 바꾸기\n",
    " # 종속변수, 독립변수\n",
    "독립 = 아이리스[['꽃잎길이', '꽃잎폭', '꽃받침길이', '꽃받침폭']]\n",
    "종속 = 아이리스[['품종_setosa', '품종_versicolor', '품종_virginica']]\n",
    "print(독립.shape, 종속.shape)"
   ]
  },
  {
   "cell_type": "code",
   "execution_count": 3,
   "metadata": {},
   "outputs": [],
   "source": [
    "# 2. 모델의 구조를 만듭니다\n",
    "X = tf.keras.layers.Input(shape=[4])\n",
    "Y = tf.keras.layers.Dense(3, activation='softmax')(X)# 분류형일때 softmax상태로 이용\n",
    "model = tf.keras.models.Model(X, Y)\n",
    "model.compile(loss='categorical_crossentropy',\n",
    "              metrics='accuracy')\n",
    " #회귀형일때는 loss =\"mse\""
   ]
  },
  {
   "cell_type": "code",
   "execution_count": 28,
   "metadata": {},
   "outputs": [
    {
     "name": "stdout",
     "output_type": "stream",
     "text": [
      "Epoch 1/10\n",
      "5/5 [==============================] - 0s 3ms/step - loss: 0.0659 - accuracy: 0.9800\n",
      "Epoch 2/10\n",
      "5/5 [==============================] - 0s 3ms/step - loss: 0.0655 - accuracy: 0.9800\n",
      "Epoch 3/10\n",
      "5/5 [==============================] - 0s 3ms/step - loss: 0.0656 - accuracy: 0.9800\n",
      "Epoch 4/10\n",
      "5/5 [==============================] - 0s 3ms/step - loss: 0.0659 - accuracy: 0.9800\n",
      "Epoch 5/10\n",
      "5/5 [==============================] - 0s 3ms/step - loss: 0.0657 - accuracy: 0.9800\n",
      "Epoch 6/10\n",
      "5/5 [==============================] - 0s 2ms/step - loss: 0.0655 - accuracy: 0.9800\n",
      "Epoch 7/10\n",
      "5/5 [==============================] - 0s 2ms/step - loss: 0.0658 - accuracy: 0.9800\n",
      "Epoch 8/10\n",
      "5/5 [==============================] - 0s 2ms/step - loss: 0.0654 - accuracy: 0.9800\n",
      "Epoch 9/10\n",
      "5/5 [==============================] - 0s 2ms/step - loss: 0.0661 - accuracy: 0.9800\n",
      "Epoch 10/10\n",
      "5/5 [==============================] - 0s 4ms/step - loss: 0.0656 - accuracy: 0.9800\n"
     ]
    },
    {
     "data": {
      "text/plain": [
       "<keras.callbacks.History at 0x1abda69c580>"
      ]
     },
     "execution_count": 28,
     "metadata": {},
     "output_type": "execute_result"
    }
   ],
   "source": [
    "# 3.데이터로 모델을 학습(FIT)합니다.\n",
    "model.fit(독립, 종속, epochs=1000, verbose=0)\n",
    "model.fit(독립, 종속, epochs=10)"
   ]
  },
  {
   "cell_type": "code",
   "execution_count": 23,
   "metadata": {},
   "outputs": [
    {
     "name": "stdout",
     "output_type": "stream",
     "text": [
      "[[9.9999976e-01 1.8908020e-07 7.1027246e-17]\n",
      " [9.9999607e-01 3.9067540e-06 1.0872722e-14]\n",
      " [9.9999917e-01 7.8255977e-07 1.2163995e-15]\n",
      " [9.9999380e-01 6.2285935e-06 3.0758782e-14]\n",
      " [9.9999988e-01 1.2018715e-07 3.9595104e-17]]\n",
      "   품종_setosa  품종_versicolor  품종_virginica\n",
      "0          1              0             0\n",
      "1          1              0             0\n",
      "2          1              0             0\n",
      "3          1              0             0\n",
      "4          1              0             0\n"
     ]
    }
   ],
   "source": [
    "# 4. 모델을 이용합니다\n",
    "# 맨 처음 데이터 5개\n",
    "print(model.predict(독립[:5]))\n",
    "print(종속[:5])"
   ]
  },
  {
   "cell_type": "code",
   "execution_count": 27,
   "metadata": {},
   "outputs": [
    {
     "name": "stdout",
     "output_type": "stream",
     "text": [
      "[[6.1761632e-15 1.2830313e-02 9.8716974e-01]\n",
      " [6.6299369e-14 4.0406559e-02 9.5959347e-01]\n",
      " [2.8395699e-13 7.3401295e-02 9.2659867e-01]\n",
      " [6.1528037e-15 9.4668828e-03 9.9053311e-01]\n",
      " [2.4322536e-12 1.2917599e-01 8.7082404e-01]]\n",
      "     품종_setosa  품종_versicolor  품종_virginica\n",
      "145          0              0             1\n",
      "146          0              0             1\n",
      "147          0              0             1\n",
      "148          0              0             1\n",
      "149          0              0             1\n"
     ]
    }
   ],
   "source": [
    "# 맨 마지막 데이터 5개\n",
    "print(model.predict(독립[-5:]))\n",
    "print(종속[-5:])"
   ]
  },
  {
   "cell_type": "code",
   "execution_count": 26,
   "metadata": {},
   "outputs": [
    {
     "name": "stdout",
     "output_type": "stream",
     "text": [
      "[array([[  1.9060618,   0.8165021,  -1.1070421],\n",
      "       [  6.220887 ,   0.6001163,  -2.6357841],\n",
      "       [ -8.176919 ,  -1.1603893,   2.03961  ],\n",
      "       [-11.007977 ,  -3.3349626,   3.9722416]], dtype=float32), array([ 4.554314 ,  2.944927 , -3.5631597], dtype=float32)]\n"
     ]
    }
   ],
   "source": [
    "###########################\n",
    "# weights & bias 출력\n",
    "print(model.get_weights())"
   ]
  },
  {
   "cell_type": "code",
   "execution_count": null,
   "metadata": {},
   "outputs": [],
   "source": []
  }
 ],
 "metadata": {
  "kernelspec": {
   "display_name": "Python 3",
   "language": "python",
   "name": "python3"
  },
  "language_info": {
   "codemirror_mode": {
    "name": "ipython",
    "version": 3
   },
   "file_extension": ".py",
   "mimetype": "text/x-python",
   "name": "python",
   "nbconvert_exporter": "python",
   "pygments_lexer": "ipython3",
   "version": "3.8.3"
  }
 },
 "nbformat": 4,
 "nbformat_minor": 4
}
